{
 "cells": [
  {
   "cell_type": "code",
   "execution_count": 25,
   "metadata": {},
   "outputs": [
    {
     "name": "stdout",
     "output_type": "stream",
     "text": [
      "1.0458846409208726 0.9557464450500128\n",
      "pretension0.077457 change0.02014269230769231 anlge34.843422587371826\n",
      "1.0459194249824435 0.9558025937903838\n",
      "pretension0.0774571 change0.020142807692307692 anlge34.843422241834205\n",
      "1.0459542113073765 0.9558587500962533\n",
      "pretension0.0774572 change0.020142923076923076 anlge34.84342189629657\n",
      "1.045988999895982 0.9559149139693232\n",
      "pretension0.07745729999999999 change0.020143038461538462 anlge34.84342155075895\n"
     ]
    },
    {
     "name": "stderr",
     "output_type": "stream",
     "text": [
      "/Users/sajivshah/opt/anaconda3/lib/python3.7/site-packages/ipykernel_launcher.py:47: IntegrationWarning: Extremely bad integrand behavior occurs at some points of the\n",
      "  integration interval.\n",
      "/Users/sajivshah/opt/anaconda3/lib/python3.7/site-packages/ipykernel_launcher.py:47: IntegrationWarning: The maximum number of subdivisions (50) has been achieved.\n",
      "  If increasing the limit yields no improvement it is advised to analyze \n",
      "  the integrand in order to determine the difficulties.  If the position of a \n",
      "  local difficulty can be determined (singularity, discontinuity) one will \n",
      "  probably gain from splitting up the interval and calling the integrator \n",
      "  on the subranges.  Perhaps a special-purpose integrator should be used.\n"
     ]
    }
   ],
   "source": [
    "import matplotlib.pyplot as plt\n",
    "from mpl_toolkits.mplot3d import Axes3D\n",
    "import math\n",
    "from scipy.integrate import quad\n",
    "\n",
    "\n",
    "run = True\n",
    "\n",
    "K = 0.5\n",
    "r_s = 0.05\n",
    "r_p = 0.028\n",
    "m = 0.226796\n",
    "h_i = 0.43\n",
    "h_f = 0.295\n",
    "theta_i = 35*math.pi/180\n",
    "l = 0.3302\n",
    "g = 9.81\n",
    "\n",
    "\n",
    "x_c = 0\n",
    "x_i = 0.06\n",
    "E_g = m*g*(h_i - h_f)\n",
    "E_s = 0\n",
    "    \n",
    "def springForce(x_i):\n",
    "    x_i = x_i/2\n",
    "    global K\n",
    "    global r_p\n",
    "    global r_s\n",
    "    if(((x_i/r_s) > math.pi/2) or (r_s**2 < x_i**2) or x_i == 0):\n",
    "        return -100000\n",
    "    else:\n",
    "        k_v = K*math.asin(x_i/r_s)/(x_i*math.sqrt(r_s**2 - x_i**2))\n",
    "        return x_i*k_v\n",
    "\n",
    "def legForce(theta):\n",
    "    F_l = m*g*l*(math.cos(math.pi/2 - theta)*math.cos(math.pi/2 - 2*theta) + 2*math.cos(theta))\n",
    "    return F_l\n",
    "\n",
    "\n",
    "for i in range(0,260000):\n",
    "    x_i = 0.06 + 0.0000001*i\n",
    "    x_c = i/260*0.00003\n",
    "    E_s = 0\n",
    "    try:\n",
    "        T = (springForce(x_i + x_c) - springForce(x_i - x_c))*r_p\n",
    "        E_s += quad(springForce, x_i, x_i + x_c)[0]\n",
    "        E_s -= quad(springForce, x_i-x_c, x_i)[0]\n",
    "        theta_f = theta_i - (x_i+x_c)*r_p\n",
    "        E_r = E_s/E_g\n",
    "        T_r = T/legForce(theta_f)\n",
    "        if((E_r < 1.046 and E_r > 0.95) and (T_r < 1.05 and T_r > 0.9557)):\n",
    "            print(E_r,T_r)\n",
    "            print('pretension' + str(x_i) + ' change' + str(x_c) + ' anlge' + str(theta_f*180/math.pi))\n",
    "    except ZeroDivisionError:\n",
    "        continue"
   ]
  },
  {
   "cell_type": "code",
   "execution_count": null,
   "metadata": {},
   "outputs": [],
   "source": []
  }
 ],
 "metadata": {
  "kernelspec": {
   "display_name": "Python 3",
   "language": "python",
   "name": "python3"
  },
  "language_info": {
   "codemirror_mode": {
    "name": "ipython",
    "version": 3
   },
   "file_extension": ".py",
   "mimetype": "text/x-python",
   "name": "python",
   "nbconvert_exporter": "python",
   "pygments_lexer": "ipython3",
   "version": "3.7.6"
  }
 },
 "nbformat": 4,
 "nbformat_minor": 4
}
